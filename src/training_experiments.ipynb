{
 "cells": [
  {
   "cell_type": "code",
   "execution_count": 2,
   "metadata": {},
   "outputs": [
    {
     "name": "stdout",
     "output_type": "stream",
     "text": [
      "/home/ediss5/miniconda3/envs/cades/lib/python3.9/site-packages/pydantic/_internal/_fields.py:149: UserWarning: Field \"model_server_url\" has conflict with protected namespace \"model_\".\n",
      "\n",
      "You may be able to resolve this warning by setting `model_config['protected_namespaces'] = ()`.\n",
      "  warnings.warn(\n",
      "/home/ediss5/miniconda3/envs/cades/lib/python3.9/site-packages/pydantic/_internal/_config.py:318: UserWarning: Valid config keys have changed in V2:\n",
      "* 'schema_extra' has been renamed to 'json_schema_extra'\n",
      "  warnings.warn(message, UserWarning)\n",
      "Using cuda device\n",
      "Wrapping the env with a `Monitor` wrapper\n",
      "Wrapping the env in a DummyVecEnv.\n",
      "Epoch # 1\n",
      "/home/ediss5/miniconda3/envs/cades/lib/python3.9/site-packages/stable_baselines3/common/evaluation.py:67: UserWarning: Evaluation environment is not wrapped with a ``Monitor`` wrapper. This may result in reporting modified episode lengths and rewards, if other wrappers happen to modify these. Consider wrapping environment first with ``Monitor`` wrapper.\n",
      "  warnings.warn(\n",
      "Eval num_timesteps=10000, episode_reward=1.81 +/- 0.61\n",
      "Episode length: 2.60 +/- 0.80\n",
      "Success rate: 0.00%\n",
      "-----------------------------------------\n",
      "| eval/                   |             |\n",
      "|    mean_ep_length       | 2.6         |\n",
      "|    mean_reward          | 1.81        |\n",
      "|    success_rate         | 0           |\n",
      "| time/                   |             |\n",
      "|    total_timesteps      | 10000       |\n",
      "| train/                  |             |\n",
      "|    approx_kl            | 0.020255001 |\n",
      "|    clip_fraction        | 0.156       |\n",
      "|    clip_range           | 0.2         |\n",
      "|    entropy_loss         | -5.06       |\n",
      "|    explained_variance   | 0.355       |\n",
      "|    learning_rate        | 0.0003      |\n",
      "|    loss                 | 2.55        |\n",
      "|    n_updates            | 780         |\n",
      "|    policy_gradient_loss | -0.038      |\n",
      "|    value_loss           | 6.03        |\n",
      "-----------------------------------------\n",
      "New best mean reward!\n",
      "Epoch # 2\n",
      "/home/ediss5/miniconda3/envs/cades/lib/python3.9/site-packages/stable_baselines3/common/evaluation.py:67: UserWarning: Evaluation environment is not wrapped with a ``Monitor`` wrapper. This may result in reporting modified episode lengths and rewards, if other wrappers happen to modify these. Consider wrapping environment first with ``Monitor`` wrapper.\n",
      "  warnings.warn(\n",
      "Eval num_timesteps=20000, episode_reward=5.03 +/- 1.64\n",
      "Episode length: 5.20 +/- 1.60\n",
      "Success rate: 0.00%\n",
      "-----------------------------------------\n",
      "| eval/                   |             |\n",
      "|    mean_ep_length       | 5.2         |\n",
      "|    mean_reward          | 5.03        |\n",
      "|    success_rate         | 0           |\n",
      "| time/                   |             |\n",
      "|    total_timesteps      | 20000       |\n",
      "| train/                  |             |\n",
      "|    approx_kl            | 0.068472825 |\n",
      "|    clip_fraction        | 0.282       |\n",
      "|    clip_range           | 0.2         |\n",
      "|    entropy_loss         | -4.1        |\n",
      "|    explained_variance   | 0.584       |\n",
      "|    learning_rate        | 0.0003      |\n",
      "|    loss                 | 2.24        |\n",
      "|    n_updates            | 1560        |\n",
      "|    policy_gradient_loss | -0.0677     |\n",
      "|    value_loss           | 3.92        |\n",
      "-----------------------------------------\n",
      "New best mean reward!\n",
      "Epoch # 3\n",
      "^C\n",
      "Traceback (most recent call last):\n",
      "  File \"/home/ediss5/somoy/cades-drl/src/train.py\", line 80, in <module>\n",
      "    model.learn(\n",
      "  File \"/home/ediss5/miniconda3/envs/cades/lib/python3.9/site-packages/sb3_contrib/ppo_recurrent/ppo_recurrent.py\", line 466, in learn\n",
      "    continue_training = self.collect_rollouts(self.env, callback, self.rollout_buffer, n_rollout_steps=self.n_steps)\n",
      "  File \"/home/ediss5/miniconda3/envs/cades/lib/python3.9/site-packages/sb3_contrib/ppo_recurrent/ppo_recurrent.py\", line 239, in collect_rollouts\n",
      "    episode_starts = th.tensor(self._last_episode_starts, dtype=th.float32, device=self.device)\n",
      "KeyboardInterrupt\n"
     ]
    }
   ],
   "source": [
    "!python train.py"
   ]
  },
  {
   "cell_type": "code",
   "execution_count": null,
   "metadata": {},
   "outputs": [],
   "source": []
  }
 ],
 "metadata": {
  "kernelspec": {
   "display_name": "cades",
   "language": "python",
   "name": "python3"
  },
  "language_info": {
   "codemirror_mode": {
    "name": "ipython",
    "version": 3
   },
   "file_extension": ".py",
   "mimetype": "text/x-python",
   "name": "python",
   "nbconvert_exporter": "python",
   "pygments_lexer": "ipython3",
   "version": "3.9.18"
  }
 },
 "nbformat": 4,
 "nbformat_minor": 2
}
