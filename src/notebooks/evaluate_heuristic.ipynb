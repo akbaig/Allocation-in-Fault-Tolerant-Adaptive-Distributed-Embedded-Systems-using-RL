{
 "cells": [
  {
   "cell_type": "code",
   "execution_count": 1,
   "metadata": {},
   "outputs": [],
   "source": [
    "import sys\n",
    "import os\n",
    "# Add the parent directory to sys.path\n",
    "sys.path.append(os.path.abspath(os.path.join(os.getcwd(), os.pardir)))"
   ]
  },
  {
   "cell_type": "code",
   "execution_count": 3,
   "metadata": {},
   "outputs": [],
   "source": [
    "# Loading Config\n",
    "from utils.config import load_yaml_config, merge_configs, dict_to_namespace\n",
    "import numpy as np\n",
    "\n",
    "default_yaml = \"../utils/configs/default.yaml\"\n",
    "problem_yaml = \"../utils/configs/problem_1.yaml\"\n",
    "category_yaml = \"../utils/configs/experiment_trn.yaml\"\n",
    "\n",
    "custom_config_files = [default_yaml, problem_yaml, category_yaml] # Add more config files if needed\n",
    "configs = [load_yaml_config(config_file) for config_file in custom_config_files]\n",
    "yaml = merge_configs(*configs)\n",
    "\n",
    "## Here you can modify the yaml object to change the configuration\n",
    "## Example: yaml.seed = 123, yaml.max_num_tasks = 10\n",
    "config = dict_to_namespace(yaml)"
   ]
  },
  {
   "cell_type": "code",
   "execution_count": 4,
   "metadata": {},
   "outputs": [
    {
     "data": {
      "text/plain": [
       "<torch._C.Generator at 0x7f2ed4083070>"
      ]
     },
     "execution_count": 4,
     "metadata": {},
     "output_type": "execute_result"
    }
   ],
   "source": [
    "import torch\n",
    "import random\n",
    "\n",
    "# Set random seeds for reproducibility\n",
    "\n",
    "random.seed(config.seed)\n",
    "np.random.seed(config.seed)\n",
    "torch.manual_seed(config.seed)"
   ]
  },
  {
   "cell_type": "code",
   "execution_count": 5,
   "metadata": {},
   "outputs": [
    {
     "name": "stderr",
     "output_type": "stream",
     "text": [
      "/home/ediss5/anaconda3/envs/cades/lib/python3.9/site-packages/stable_baselines3/common/env_checker.py:190: UserWarning: Your observation communications has an unconventional shape (neither an image, nor a 1D vector). We recommend you to flatten the observation to have only a 1D vector or use a custom policy to properly process the data.\n",
      "  warnings.warn(\n"
     ]
    }
   ],
   "source": [
    "from env.cades_env import CadesEnv\n",
    "from stable_baselines3.common.env_checker import check_env\n",
    "\n",
    "# Initialize and check the environment\n",
    "env = CadesEnv(config)\n",
    "check_env(env)"
   ]
  },
  {
   "cell_type": "code",
   "execution_count": 6,
   "metadata": {},
   "outputs": [],
   "source": [
    "config.train = False\n",
    "config.evaluate = True"
   ]
  },
  {
   "cell_type": "code",
   "execution_count": 10,
   "metadata": {},
   "outputs": [
    {
     "name": "stdout",
     "output_type": "stream",
     "text": [
      "Wrapping the env with a `Monitor` wrapper\n",
      "Wrapping the env in a DummyVecEnv.\n"
     ]
    }
   ],
   "source": [
    "from models.ppo import PPOModel\n",
    "\n",
    "model = PPOModel.load(\"../../experiments/models/p1/trn/early_term_1000\", env, config)"
   ]
  },
  {
   "cell_type": "code",
   "execution_count": 7,
   "metadata": {},
   "outputs": [
    {
     "name": "stdout",
     "output_type": "stream",
     "text": [
      "chain_comm.ipynb  evaluate.ipynb\n"
     ]
    }
   ],
   "source": [
    "%ls"
   ]
  },
  {
   "cell_type": "code",
   "execution_count": 8,
   "metadata": {},
   "outputs": [],
   "source": [
    "# redefine model's predict method to use the heuristic\n",
    "from heuristics.nf import NextFitHeuristic\n",
    "\n",
    "heuristic = NextFitHeuristic(env)\n",
    "model.model.predict = heuristic.predict"
   ]
  },
  {
   "cell_type": "code",
   "execution_count": 11,
   "metadata": {},
   "outputs": [
    {
     "data": {
      "text/plain": [
       "{'mean_episode_reward': 43.38206944444444,\n",
       " 'mean_episode_length': 11.78,\n",
       " 'mean_inference_time': 0.06502962350845337,\n",
       " 'termination_cause': {'success': 96.0,\n",
       "  'duplicate_pick': 2.0,\n",
       "  'node_overflow': 0.0,\n",
       "  'duplicate_critical_pick': 2.0},\n",
       " 'mean_metrics': {'avg_node_occupancy': 66.66999999999999,\n",
       "  'avg_active_node_occupancy': 66.66999999999999,\n",
       "  'message_channel_occupancy': 0.0,\n",
       "  'empty_nodes': 0.0}}"
      ]
     },
     "execution_count": 11,
     "metadata": {},
     "output_type": "execute_result"
    }
   ],
   "source": [
    "model.evaluate_multiple()"
   ]
  }
 ],
 "metadata": {
  "kernelspec": {
   "display_name": "cades",
   "language": "python",
   "name": "python3"
  },
  "language_info": {
   "codemirror_mode": {
    "name": "ipython",
    "version": 3
   },
   "file_extension": ".py",
   "mimetype": "text/x-python",
   "name": "python",
   "nbconvert_exporter": "python",
   "pygments_lexer": "ipython3",
   "version": "3.9.18"
  }
 },
 "nbformat": 4,
 "nbformat_minor": 2
}
